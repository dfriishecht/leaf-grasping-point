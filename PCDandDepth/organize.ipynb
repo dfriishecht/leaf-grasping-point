{
 "cells": [
  {
   "cell_type": "code",
   "execution_count": 6,
   "metadata": {},
   "outputs": [],
   "source": [
    "import numpy as np\n",
    "import open3d as o3d\n",
    "from matplotlib import pyplot as plt\n",
    "from PIL import Image"
   ]
  },
  {
   "cell_type": "code",
   "execution_count": 7,
   "metadata": {},
   "outputs": [],
   "source": [
    "# Load pointcloud from file and save its point position and color as two numpy arrays\n",
    "pcd_path = \"Pointclouds/demo_ (1).pcd\"\n",
    "pcd_load = o3d.io.read_point_cloud(pcd_path, format='pcd')\n",
    "pcd_points = np.asarray(pcd_load.points)\n",
    "pcd_colors_orig = np.asarray(pcd_load.colors)"
   ]
  },
  {
   "cell_type": "code",
   "execution_count": 8,
   "metadata": {},
   "outputs": [],
   "source": [
    "# Optional: View the loaded pointcloud\n",
    "o3d.visualization.draw_geometries([pcd_load],\n",
    "                                  zoom=0.5,\n",
    "                                  front=[ 0, 0, -1],\n",
    "                                  lookat=[ 0, 0, .3],\n",
    "                                  up=[ 0, -1, 0])"
   ]
  },
  {
   "cell_type": "code",
   "execution_count": null,
   "metadata": {},
   "outputs": [],
   "source": [
    "# Load and view leaf mask\n",
    "mask_image = Image.open('Images/aggrigated_masks (1).png')\n",
    "mask_array = np.asarray(mask_image)[:, :, 0:3]\n",
    "plt.imshow(mask_array)"
   ]
  },
  {
   "cell_type": "code",
   "execution_count": 10,
   "metadata": {},
   "outputs": [],
   "source": [
    "# Format mask array to be compatible with o3d's color array setup\n",
    "reshape_mask = np.reshape(mask_array, (1555200, 3))\n",
    "mask_norm = reshape_mask / 255"
   ]
  },
  {
   "cell_type": "code",
   "execution_count": 11,
   "metadata": {},
   "outputs": [],
   "source": [
    "# Use leaf mask to remove all non-leaf portions of the pointcloud\n",
    "pcd_colors = np.asarray(pcd_load.colors)\n",
    "index = np.argwhere(reshape_mask/255==mask_norm[0])\n",
    "pcd_colors = np.delete(pcd_colors, index, 0)\n",
    "pcd_points = np.delete(pcd_points, index, 0)\n",
    "pcd_colors_orig = np.delete(pcd_colors_orig, index, 0)"
   ]
  },
  {
   "cell_type": "code",
   "execution_count": 12,
   "metadata": {},
   "outputs": [],
   "source": [
    "# Generate the new masked pointcloud\n",
    "pcd = o3d.geometry.PointCloud()\n",
    "pcd.colors = o3d.utility.Vector3dVector(pcd_colors_orig)\n",
    "pcd.points = o3d.utility.Vector3dVector(pcd_points)"
   ]
  },
  {
   "cell_type": "code",
   "execution_count": 13,
   "metadata": {},
   "outputs": [
    {
     "data": {
      "text/plain": [
       "PointCloud with 7350 points."
      ]
     },
     "execution_count": 13,
     "metadata": {},
     "output_type": "execute_result"
    }
   ],
   "source": [
    "# Clean up point cloud by removing outliers.\n",
    "# Since we are targeting points with a neighbor count lower than the average, this will remove\n",
    "# the areas of the point cloud with a very high depth slope. This removes wildly wrong depth artifacts\n",
    "# And removes the steep transition between different depths that the smooth output of the RAFT model produced.\n",
    "cl, ind = pcd.remove_statistical_outlier(nb_neighbors=100, std_ratio=1.0)\n",
    "inlier_cloud = pcd.select_by_index(ind)\n",
    "outlier_cloud = pcd.select_by_index(ind, invert=True)\n",
    "outlier_cloud.paint_uniform_color([1, 0, 0])"
   ]
  },
  {
   "cell_type": "code",
   "execution_count": 14,
   "metadata": {},
   "outputs": [
    {
     "name": "stdout",
     "output_type": "stream",
     "text": [
      "[Open3D WARNING] GLFW Error: WGL: Failed to make context current: The handle is invalid. \n"
     ]
    }
   ],
   "source": [
    "# Optional: View the cleaned up point cloud. Small clusters still need to be removed\n",
    "o3d.visualization.draw_geometries([inlier_cloud],\n",
    "                                  zoom=0.5,\n",
    "                                  front=[ 0, 0, -1],\n",
    "                                  lookat=[ 0, 0, .3],\n",
    "                                  up=[ 0, -1, 0])"
   ]
  }
 ],
 "metadata": {
  "kernelspec": {
   "display_name": "Python 3",
   "language": "python",
   "name": "python3"
  },
  "language_info": {
   "codemirror_mode": {
    "name": "ipython",
    "version": 3
   },
   "file_extension": ".py",
   "mimetype": "text/x-python",
   "name": "python",
   "nbconvert_exporter": "python",
   "pygments_lexer": "ipython3",
   "version": "3.11.9"
  }
 },
 "nbformat": 4,
 "nbformat_minor": 2
}
