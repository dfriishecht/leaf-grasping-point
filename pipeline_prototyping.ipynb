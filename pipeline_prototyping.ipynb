{
  "cells": [
    {
      "cell_type": "code",
      "execution_count": null,
      "metadata": {},
      "outputs": [],
      "source": [
        "import numpy as np\n",
        "import open3d as o3d\n",
        "from matplotlib import pyplot as plt\n",
        "from PIL import Image, ImageFilter\n",
        "from scipy import signal\n",
        "from skimage import measure\n",
        "from joblib import Parallel, delayed\n",
        "from paretoset import paretoset\n",
        "import sklearn.metrics.pairwise as pdist\n",
        "#import skfmm\n",
        "\n",
        "import leaf_processing_helpers as lph"
      ]
    },
    {
      "cell_type": "markdown",
      "metadata": {},
      "source": [
        "Mask out background"
      ]
    },
    {
      "cell_type": "code",
      "execution_count": null,
      "metadata": {},
      "outputs": [],
      "source": [
        "GRASPER_CLEARANCE = 0.02 #cm clearance for bottom of grasper"
      ]
    },
    {
      "cell_type": "code",
      "execution_count": null,
      "metadata": {},
      "outputs": [],
      "source": [
        "leafs = lph.apply_depth_mask(\"../data/Pointclouds/demo_5.pcd\", '../data/Images/aggrigated_masks5.png',\n",
        "                             \"../data/Arrays/depth5.npy\", \"../data/Images/left_rect5.png\",  plot=True)"
      ]
    },
    {
      "cell_type": "markdown",
      "metadata": {},
      "source": [
        "Clean mask\n",
        "\n",
        "Small clusters with a pixel area of less than 200 are removed."
      ]
    },
    {
      "cell_type": "code",
      "execution_count": null,
      "metadata": {},
      "outputs": [],
      "source": [
        "mask = lph.clean_mask(leafs)\n",
        "\n",
        "leafs[:,:,3] = mask"
      ]
    },
    {
      "cell_type": "markdown",
      "metadata": {},
      "source": [
        "Perform convolution with needle array to erode away leaf edges"
      ]
    },
    {
      "cell_type": "code",
      "execution_count": null,
      "metadata": {},
      "outputs": [],
      "source": [
        "depth_image = leafs[:,:,2].astype('float32')\n",
        "mask_image = leafs[:,:,3].astype('uint8')\n",
        "kernels = lph.get_kernels(depth_image, mask_image)\n",
        "graspable_mask = lph.compute_graspable_areas(kernels, mask_image)"
      ]
    },
    {
      "cell_type": "code",
      "execution_count": null,
      "metadata": {},
      "outputs": [],
      "source": [
        "binary_grasp_mask = graspable_mask >=1\n",
        "leafs[:,:,3] = leafs[:,:,3]*binary_grasp_mask\n",
        "leafs_ = np.reshape(leafs[:,:,0:3], (1555200, 3))\n",
        "index = np.argwhere(leafs_ == [0,0,0])\n",
        "inverse_index = np.nonzero(leafs_[:,2])\n",
        "leafs__ = np.delete(leafs_, index,0)"
      ]
    },
    {
      "cell_type": "code",
      "execution_count": null,
      "metadata": {},
      "outputs": [],
      "source": [
        "processed_pcd = o3d.geometry.PointCloud()\n",
        "processed_pcd.points = o3d.utility.Vector3dVector(leafs__)"
      ]
    },
    {
      "cell_type": "markdown",
      "metadata": {},
      "source": [
        "Compute normal vectors\n",
        "\n",
        "Each leaf's normal vectors are computed, which is then used to estimate how flat each portion of the leaf is.\n",
        "This is working under the assumption that flat means pointing straight up towards the camera. A more robust implementation\n",
        "will be needed if flatness is defined relative to each leaf."
      ]
    },
    {
      "cell_type": "code",
      "execution_count": null,
      "metadata": {},
      "outputs": [],
      "source": [
        "lph.compute_normals(processed_pcd)\n",
        "sqrt_dist = np.sum((processed_pcd.normals[999])**2, axis=0)\n",
        "dist = np.sqrt(sqrt_dist)\n",
        "normal_orientation = np.asarray(processed_pcd.normals)[:,2]\n",
        "normal_orientation = abs(normal_orientation)\n",
        "orientation_color = np.zeros((len(normal_orientation), 3))\n",
        "orientation_color[:,0]=normal_orientation\n",
        "orientation_color[:,1]=0\n",
        "orientation_color[:,2]=0\n",
        "processed_pcd.colors = o3d.utility.Vector3dVector(orientation_color)"
      ]
    },
    {
      "cell_type": "code",
      "execution_count": null,
      "metadata": {},
      "outputs": [],
      "source": [
        "leaf_flatness = np.zeros((1555200, 1))\n",
        "j=0\n",
        "for i in range(len(inverse_index[0])):\n",
        "    current_index = inverse_index[0][i]\n",
        "    leaf_flatness[current_index,0] = normal_orientation[j]\n",
        "    j+=1\n",
        "    \n",
        "leaf_flatness = np.reshape(leaf_flatness, (1080,1440,1))\n",
        "leafs = np.concatenate((leafs, leaf_flatness), axis=2)"
      ]
    },
    {
      "cell_type": "code",
      "execution_count": null,
      "metadata": {},
      "outputs": [],
      "source": [
        "fig, ax = plt.subplot_mosaic([\n",
        "            ['mask', 'z', 'flatness']\n",
        "        ], figsize=(15,10))\n",
        "\n",
        "ax['z'].imshow((leafs[:, :, 2]))\n",
        "ax['z'].set_title(\"Depth (m)\")\n",
        "ax['mask'].imshow(leafs[:, :, 3])\n",
        "ax['mask'].set_title(\"Graspable Area\")\n",
        "ax['flatness'].imshow(leafs[:,:,4])\n",
        "ax['flatness'].set_title(\"Flatness Estimation (Normal Z Value)\")\n",
        "plt.show()"
      ]
    },
    {
      "cell_type": "markdown",
      "metadata": {},
      "source": [
        "Combine graspable area with flatness data to compute best part to grasp on each leaf"
      ]
    },
    {
      "cell_type": "code",
      "execution_count": null,
      "metadata": {},
      "outputs": [],
      "source": [
        "alpha = 0.4\n",
        "graspable_area = binary_grasp_mask\n",
        "smooth_section = leafs[:,:,4]\n",
        "leaf_selection_a = alpha*smooth_section+(1-alpha)*graspable_area\n",
        "\n",
        "\n",
        "leaf_selection_ab = np.where(leaf_selection_a, leaf_selection_a >= np.amax(leaf_selection_a)*.95,\n",
        "                                      0)\n",
        "\n",
        "leafs[:,:,3] = leaf_selection_ab*leafs[:,:,3]\n",
        "viable_leaf_regions = lph.clean_mask(leafs)\n",
        "\n",
        "\n",
        "fig, ax = plt.subplot_mosaic([\n",
        "            ['grasp', 'flatness', 'combined']\n",
        "        ], figsize=(15,10))\n",
        "\n",
        "ax['grasp'].imshow(graspable_area)\n",
        "ax['grasp'].set_title(\"Graspable area\")\n",
        "ax['combined'].imshow(viable_leaf_regions)\n",
        "ax['combined'].set_title(\"Graspable Flat Areas\")\n",
        "ax['flatness'].imshow(leafs[:,:,4])\n",
        "ax['flatness'].set_title(\"Flatness Estimation (Normal Z Value)\")\n",
        "ax['grasp'].set_axis_off()\n",
        "ax['combined'].set_axis_off()\n",
        "ax['flatness'].set_axis_off()\n",
        "plt.show()\n",
        "\n",
        "# Implement function to measure reduction in area from clean up to determine if mask should still exist."
      ]
    },
    {
      "cell_type": "code",
      "execution_count": null,
      "metadata": {},
      "outputs": [],
      "source": [
        "unique = np.unique(leafs[:,:,3])\n",
        "depth_list = lph.mean_mask_depth(leafs)\n",
        "depth_list_norm = lph.mean_mask_depth(leafs, normalized=True)\n",
        "\n",
        "tall_leaves = lph.find_tall_leaves(depth_list, leafs)\n",
        "plt.imshow(tall_leaves)\n",
        "plt.show()\n"
      ]
    },
    {
      "cell_type": "code",
      "execution_count": null,
      "metadata": {},
      "outputs": [],
      "source": [
        "leafs[:,:,3] = viable_leaf_regions\n",
        "viable_leaf_regions = lph.clean_mask(leafs)\n",
        "cleaned_masks = viable_leaf_regions >= 1\n",
        "cleaned_masks_tall = tall_leaves >= 1\n",
        "cleaned_masks = np.where(cleaned_masks, cleaned_masks == 0, 1)\n",
        "cleaned_masks_tall = np.where(cleaned_masks_tall, cleaned_masks_tall == 0, 1)\n",
        "SDF_X = skfmm.distance(cleaned_masks_tall, dx=1)\n",
        "SDF = skfmm.distance(cleaned_masks, dx=1)"
      ]
    },
    {
      "cell_type": "code",
      "execution_count": null,
      "metadata": {},
      "outputs": [],
      "source": [
        "fig, ax = plt.subplot_mosaic([\n",
        "            ['all', 'tall']\n",
        "        ], figsize=(15,10))\n",
        "\n",
        "ax['all'].imshow(SDF)\n",
        "ax['all'].set_title(\"Full SDF\")\n",
        "ax['tall'].imshow(SDF_X)\n",
        "ax['tall'].set_title(\"Tall Leaves SDF\")\n",
        "plt.show()\n"
      ]
    },
    {
      "cell_type": "code",
      "execution_count": null,
      "metadata": {},
      "outputs": [],
      "source": [
        "min_global = np.unravel_index(SDF.argmin(), SDF.shape)\n",
        "max_global = np.unravel_index(SDF.argmax(), SDF.shape)\n",
        "min_tall = np.unravel_index(SDF_X.argmin(), SDF_X.shape)\n",
        "max_tall = np.unravel_index(SDF_X.argmax(), SDF_X.shape)"
      ]
    },
    {
      "cell_type": "code",
      "execution_count": null,
      "metadata": {},
      "outputs": [],
      "source": [
        "\n",
        "tall_leaves = tall_leaves * viable_leaf_regions\n",
        "centroids, mask, areas = lph.get_centroids(viable_leaf_regions.astype('uint8'))\n",
        "centroids_tall, mask_tall, areas_tall = lph.get_centroids(tall_leaves.astype('uint8'))\n",
        "leafs[:,:,3] = mask\n",
        "for i, _ in enumerate(centroids_tall):\n",
        "    plt.scatter(centroids_tall[i][0], centroids_tall[i][1],s=1,c='r')\n",
        "left_image = Image.open(\"Images/left_rect5.png\")\n",
        "left_array = np.asarray(left_image)[:, :, 0:3]\n",
        "plt.imshow(left_array)\n",
        "plt.title(\"Estimated Optimal Leaf Grasp Locations\")\n",
        "plt.show()"
      ]
    },
    {
      "cell_type": "code",
      "execution_count": null,
      "metadata": {},
      "outputs": [],
      "source": [
        "data = lph.compute_minmax_dist(centroids, min_global, max_global)\n",
        "data_tall = lph.compute_minmax_dist(centroids_tall, min_tall, max_tall)"
      ]
    },
    {
      "cell_type": "code",
      "execution_count": null,
      "metadata": {},
      "outputs": [],
      "source": [
        "mask = paretoset(data)\n",
        "paretoset_sols = data[mask]\n",
        "res = mask"
      ]
    },
    {
      "cell_type": "code",
      "execution_count": null,
      "metadata": {},
      "outputs": [],
      "source": [
        "mask_tall = paretoset(data_tall)\n",
        "paretoset_sols_tall = data_tall[mask_tall]\n",
        "res_tall = mask_tall"
      ]
    },
    {
      "cell_type": "code",
      "execution_count": null,
      "metadata": {},
      "outputs": [],
      "source": [
        "fig, ax = plt.subplot_mosaic([\n",
        "            ['all', 'tall']\n",
        "        ], figsize=(15,10))\n",
        "\n",
        "ax['all'].scatter(data[:, 0], data[:, 1], zorder=10, label=\"All leaves\", s=50, alpha=0.8)\n",
        "ax['all'].scatter(paretoset_sols[:, 0], paretoset_sols[:, 1], zorder=5, label=\"optimal leaf\", s=150, alpha=1)\n",
        "ax['all'].set_title(\"Full SDF Paretoset\")\n",
        "ax['tall'].scatter(data_tall[:, 0], data_tall[:, 1], zorder=10, label=\"All leaves\", s=50, alpha=0.8)\n",
        "ax['tall'].scatter(paretoset_sols_tall[:, 0], paretoset_sols_tall[:, 1], zorder=5, label=\"optimal leaf\", s=150, alpha=1)\n",
        "ax['tall'].set_title(\"Tall Leaves Paretoset\")\n",
        "plt.show()"
      ]
    },
    {
      "cell_type": "code",
      "execution_count": null,
      "metadata": {},
      "outputs": [],
      "source": [
        "opt_leaves = np.where(res==True)[0]\n",
        "opt_leaves_tall = np.where(res_tall==True)[0]\n",
        "plt.imshow(left_array)\n",
        "for i_ in opt_leaves:\n",
        "    plt.plot(centroids[i_][0], centroids[i_][1], 'r*')\n",
        "for i_ in opt_leaves_tall:\n",
        "    plt.plot(centroids[i_][0], centroids[i_][1], 'b*')\n",
        "plt.show()"
      ]
    },
    {
      "cell_type": "markdown",
      "metadata": {},
      "source": [
        "Qualifications for best leaf selection\n",
        "\n",
        "Two cases - one where the leaf is on the outside edge of the plant, and one where the leaf is within the cluster\n",
        "\n",
        "For case one - outside leaf:\n",
        "\n",
        "Value height\n",
        "Value area\n",
        "Value isolation\n",
        "Value not being on the very edge of the image\n",
        "\n",
        "For case two - inside leaf:\n",
        "\n",
        "Value height - higher weight than outside leaf height. Might need to consider its height difference relative to other leaves around it\n",
        "value area"
      ]
    },
    {
      "cell_type": "code",
      "execution_count": null,
      "metadata": {},
      "outputs": [],
      "source": [
        "mask_1 = paretoset(centroids, sense=[\"max\", \"min\"], distinct=True)\n",
        "mask_2 = paretoset(centroids, sense=[\"min\", \"max\"], distinct=True)\n",
        "\n",
        "mask = mask_1+mask_2\n",
        "\n",
        "areas = (areas - np.min(areas))/np.max(areas)\n",
        "\n",
        "# If quantity of leaves is low enough, don't make distinction between outside and inside leaves\n",
        "if len(centroids) < 10:\n",
        "    mask = np.zeros(len(centroids))\n",
        "    mask[:] = True\n",
        "\n",
        "leaf_score = np.zeros(len(centroids))\n",
        "index = np.unique(leafs[:, :, 3])\n",
        "for i, _ in enumerate(centroids):\n",
        "    if i == 0:\n",
        "        continue\n",
        "    points = lph.find_number_of_points_in_radius(centroids, centroids[i], 120)\n",
        "    #leaf_score[i] -= points\n",
        "    leaf_score[i] += (1-depth_list[i])\n",
        "    leaf_score[i] += areas[i]\n",
        "    if leaf_score[i] < 0:\n",
        "        leaf_score[i] = 0\n",
        "\n",
        "\n",
        "for i, _ in enumerate(centroids):\n",
        "    if mask[i] == True:\n",
        "        plt.scatter(centroids[i][0], centroids[i][1],c='c')\n",
        "        if leaf_score[i] > 1.2:\n",
        "            plt.scatter(centroids[i][0], centroids[i][1],c='b')\n",
        "    else:\n",
        "        leaf_score[i] -= areas[i]*.1\n",
        "        if leaf_score[i] > 1.2:\n",
        "            print(leaf_score[i])\n",
        "            plt.scatter(centroids[i][0], centroids[i][1],c='b')\n",
        "        else:\n",
        "            plt.scatter(centroids[i][0], centroids[i][1],c='r')\n",
        "left_image = Image.open(\"Images/left_rect5.png\")\n",
        "left_array = np.asarray(left_image)[:, :, 0:3]\n",
        "plt.imshow(left_array)\n",
        "plt.title(\"Estimated Optimal Leaves\")\n",
        "plt.show()"
      ]
    },
    {
      "cell_type": "code",
      "execution_count": null,
      "metadata": {},
      "outputs": [],
      "source": [
        "pcd = o3d.geometry.PointCloud()\n",
        "points = np.reshape(leafs[:, :, 0:3], (1555200, 3))\n",
        "points = np.delete(points, np.argwhere(points == [0, 0, 0]), axis=0)\n",
        "pcd.points = o3d.utility.Vector3dVector(points)\n",
        "o3d.visualization.draw_geometries([pcd])"
      ]
    }
  ],
  "metadata": {
    "kernelspec": {
      "display_name": "Python 3",
      "language": "python",
      "name": "python3"
    },
    "language_info": {
      "codemirror_mode": {
        "name": "ipython",
        "version": 3
      },
      "file_extension": ".py",
      "mimetype": "text/x-python",
      "name": "python",
      "nbconvert_exporter": "python",
      "pygments_lexer": "ipython3",
      "version": "3.11.9"
    }
  },
  "nbformat": 4,
  "nbformat_minor": 4
}
