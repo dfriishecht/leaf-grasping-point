{
 "cells": [
  {
   "cell_type": "code",
   "execution_count": 268,
   "metadata": {},
   "outputs": [
    {
     "ename": "ModuleNotFoundError",
     "evalue": "No module named 'skfmm'",
     "output_type": "error",
     "traceback": [
      "\u001b[1;31m---------------------------------------------------------------------------\u001b[0m",
      "\u001b[1;31mModuleNotFoundError\u001b[0m                       Traceback (most recent call last)",
      "Cell \u001b[1;32mIn[268], line 6\u001b[0m\n\u001b[0;32m      4\u001b[0m \u001b[38;5;28;01mfrom\u001b[39;00m \u001b[38;5;21;01mPIL\u001b[39;00m \u001b[38;5;28;01mimport\u001b[39;00m Image, ImageFilter\n\u001b[0;32m      5\u001b[0m \u001b[38;5;28;01mfrom\u001b[39;00m \u001b[38;5;21;01mscipy\u001b[39;00m \u001b[38;5;28;01mimport\u001b[39;00m signal\n\u001b[1;32m----> 6\u001b[0m \u001b[38;5;28;01mimport\u001b[39;00m \u001b[38;5;21;01mskfmm\u001b[39;00m\n\u001b[0;32m      8\u001b[0m \u001b[38;5;28;01mimport\u001b[39;00m \u001b[38;5;21;01mPointCloudMask\u001b[39;00m \u001b[38;5;28;01mas\u001b[39;00m \u001b[38;5;21;01mpcm\u001b[39;00m\n",
      "\u001b[1;31mModuleNotFoundError\u001b[0m: No module named 'skfmm'"
     ]
    }
   ],
   "source": [
    "import numpy as np\n",
    "import open3d as o3d\n",
    "from matplotlib import pyplot as plt\n",
    "from PIL import Image, ImageFilter\n",
    "from scipy import signal\n",
    "import skfmm\n",
    "\n",
    "import PointCloudMask as pcm"
   ]
  },
  {
   "cell_type": "code",
   "execution_count": 159,
   "metadata": {},
   "outputs": [],
   "source": [
    "leafs = pcm.apply_depth_mask(\"PCDandDepth/Pointclouds/demo_ (1).pcd\", 'PCDandDepth/Images/aggrigated_masks (1).png',\n",
    "                             \"PCDandDepth/Arrays/depth (1).npy\", plot=False)"
   ]
  },
  {
   "cell_type": "code",
   "execution_count": 4,
   "metadata": {},
   "outputs": [
    {
     "name": "stdout",
     "output_type": "stream",
     "text": [
      "(1080, 1440, 4)\n"
     ]
    }
   ],
   "source": [
    "print(leafs.shape)"
   ]
  },
  {
   "cell_type": "markdown",
   "metadata": {},
   "source": [
    "Test 1: Performing convolution with needle array to erode away leaf edges"
   ]
  },
  {
   "cell_type": "code",
   "execution_count": 262,
   "metadata": {},
   "outputs": [
    {
     "name": "stdout",
     "output_type": "stream",
     "text": [
      "average kernel size:  38.0\n",
      "average kernel size:  39.0\n",
      "average kernel size:  37.0\n",
      "average kernel size:  39.0\n",
      "average kernel size:  38.0\n",
      "average kernel size:  40.0\n",
      "average kernel size:  39.0\n",
      "average kernel size:  39.0\n",
      "average kernel size:  39.0\n",
      "average kernel size:  38.0\n",
      "average kernel size:  40.0\n",
      "all kernels:  [38.0, 39.0, 37.0, 39.0, 38.0, 40.0, 39.0, 39.0, 39.0, 38.0, 40.0]\n"
     ]
    },
    {
     "data": {
      "text/plain": [
       "<matplotlib.image.AxesImage at 0x25f27088190>"
      ]
     },
     "execution_count": 262,
     "metadata": {},
     "output_type": "execute_result"
    },
    {
     "data": {
      "image/png": "[encoded data removed]",
      "text/plain": [
       "<Figure size 640x480 with 1 Axes>"
      ]
     },
     "metadata": {},
     "output_type": "display_data"
    }
   ],
   "source": [
    "depth_image = leafs[:,:,2].astype('float32')\n",
    "mask_image = leafs[:,:,3].astype('uint8')\n",
    "kernels = get_kernels(depth_image, mask_image, leafs)\n",
    "no_leaves = np.unique(mask_image)\n",
    "graspable_mask = do_convolution(kernels, mask_image)\n",
    "plt.imshow(graspable_mask)"
   ]
  },
  {
   "cell_type": "code",
   "execution_count": 261,
   "metadata": {},
   "outputs": [],
   "source": [
    "def get_kernels(depth_image, mask_image, masked_points):\n",
    "    masks_ind = np.unique(mask_image)\n",
    "    kernels = []\n",
    "    \n",
    "    for i in range(1, len(masks_ind)):\n",
    "        singular_leaf_mask = np.where(mask_image, mask_image == masks_ind[i], 0)\n",
    "        leaf_mask = singular_leaf_mask * depth_image\n",
    "        kernel_ = kernel_size(leaf_mask, plot=False)\n",
    "        kernels.append(kernel_)\n",
    "    print('all kernels: ', kernels)\n",
    "    return kernels\n",
    "        "
   ]
  },
  {
   "cell_type": "code",
   "execution_count": 260,
   "metadata": {},
   "outputs": [],
   "source": [
    "def kernel_size(depth_mask, plot=False):\n",
    "    calib_projection_matrix = np.array(([1722.235253, 0, 584.315697, 0],\n",
    "                           [0, 1722.235253, 488.690098, 0],\n",
    "                           [0, 0, 1, 0, ]))\n",
    "    P = np.reshape(calib_projection_matrix, (3,4))\n",
    "    X = np.ones((4,1))\n",
    "\n",
    "    leaf_x = np.nonzero(depth_mask)[0]\n",
    "    leaf_y = np.nonzero(depth_mask)[1]\n",
    "    mean_depth = np.mean(depth_mask[leaf_x,leaf_y])\n",
    "\n",
    "\n",
    "    depth = np.array(([0,0, mean_depth]))\n",
    "    mn_dim = 0.005\n",
    "    d1 = np.array(([-mn_dim / 2, -mn_dim / 2, mean_depth]))\n",
    "    d2 = np.array(([mn_dim / 2, -mn_dim / 2, mean_depth]))\n",
    "    d3 = np.array(([-mn_dim / 2, mn_dim / 2, mean_depth]))\n",
    "    d4 = np.array(([mn_dim / 2, mn_dim / 2, mean_depth]))\n",
    "    Dc = np.array([depth]).transpose()\n",
    "    D1 = np.array([d1]).transpose()\n",
    "    D2 = np.array([d2]).transpose()\n",
    "    D3 = np.array([d3]).transpose()\n",
    "    D4 = np.array([d4]).transpose()\n",
    "    X[0:3, :] = np.array(Dc)\n",
    "    x = np.matmul(P, X)\n",
    "    xc = x / x[-1:]\n",
    "    X[0:3, :] = np.array(D1)\n",
    "    x = np.matmul(P, X)\n",
    "    x1 = x / x[-1:]\n",
    "    X[0:3, :] = np.array(D2)\n",
    "    x = np.matmul(P, X)\n",
    "    x2 = x / x[-1:]\n",
    "    X[0:3, :] = np.array(D3)\n",
    "    x = np.matmul(P, X)\n",
    "    x3 = x / x[-1:]\n",
    "    X[0:3, :] = np.array(D4)\n",
    "    x = np.matmul(P, X)\n",
    "    x4 = x / x[-1:]\n",
    "\n",
    "    sz_1 = np.abs(np.round(x1[0]) - np.round(x2[0]))\n",
    "    sz_2 = np.abs(np.round(x1[1]) - np.round(x3[1]))\n",
    "    sz_3 = np.abs(np.round(x4[0]) - np.round(x3[0]))\n",
    "    sz_4 = np.abs(np.round(x4[1]) - np.round(x2[1]))\n",
    "\n",
    "    kernel_ = np.round(np.average(([sz_1, sz_2, sz_3, sz_4])))  # this is just a length of a square\n",
    "\n",
    "    print('average kernel size: ', kernel_)\n",
    "\n",
    "    if plot:\n",
    "            plt.imshow(depth_mask)\n",
    "            plt.plot(np.round(xc[0]), np.round(xc[1]), 'r.')\n",
    "            plt.plot(np.round(x1[0]), np.round(x1[1]), 'r.')\n",
    "            plt.plot(np.round(x2[0]), np.round(x2[1]), 'r.')\n",
    "            plt.plot(np.round(x3[0]), np.round(x3[1]), 'r.')\n",
    "            plt.plot(np.round(x4[0]), np.round(x4[1]), 'r.')\n",
    "            plt.show()\n",
    "    return kernel_"
   ]
  },
  {
   "cell_type": "code",
   "execution_count": 259,
   "metadata": {},
   "outputs": [],
   "source": [
    "def do_convolution(kernel, mask):\n",
    "\n",
    "    kernel_ = kernel\n",
    "    mask_ = mask\n",
    "    index_ = np.unique(mask_)\n",
    "    \n",
    "    graspable_areas = np.zeros((1080, 1440))\n",
    "    \n",
    "    for i in range(1, len(index_)):\n",
    "        mask_local_ = mask_ == index_[i]\n",
    "        mask_local_ = np.where(mask_local_, mask_local_ >= 1, 0)\n",
    "        graspable_area = signal.convolve2d(mask_local_.astype('uint8'), np.ones((kernel_[i - 1].astype('uint8'), kernel_[i - 1].astype('uint8'))), boundary='symm',\n",
    "                                               mode='same')\n",
    "        graspable_area = np.where(graspable_area, graspable_area < np.amax(graspable_area)*.9,\n",
    "                                      1)  # remove blurry parts\n",
    "        graspable_area_ = np.logical_not(graspable_area).astype(\n",
    "                int)\n",
    "        i_, j_ = np.where(graspable_area_ == np.amax(graspable_area_))\n",
    "        graspable_areas[i_, j_] = i\n",
    "    return graspable_areas\n",
    "        \n",
    "   "
   ]
  }
 ],
 "metadata": {
  "kernelspec": {
   "display_name": "Python 3",
   "language": "python",
   "name": "python3"
  },
  "language_info": {
   "codemirror_mode": {
    "name": "ipython",
    "version": 3
   },
   "file_extension": ".py",
   "mimetype": "text/x-python",
   "name": "python",
   "nbconvert_exporter": "python",
   "pygments_lexer": "ipython3",
   "version": "3.11.9"
  }
 },
 "nbformat": 4,
 "nbformat_minor": 2
}
