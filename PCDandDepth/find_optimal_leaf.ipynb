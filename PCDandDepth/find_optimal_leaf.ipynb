{
 "cells": [
  {
   "cell_type": "code",
   "execution_count": 1,
   "metadata": {},
   "outputs": [
    {
     "name": "stdout",
     "output_type": "stream",
     "text": [
      "Jupyter environment detected. Enabling Open3D WebVisualizer.\n",
      "[Open3D INFO] WebRTC GUI backend enabled.\n",
      "[Open3D INFO] WebRTCWindowSystem: HTTP handshake server disabled.\n"
     ]
    }
   ],
   "source": [
    "import numpy as np\n",
    "import open3d as o3d\n",
    "from matplotlib import pyplot as plt\n",
    "from PIL import Image, ImageFilter\n",
    "from scipy import signal\n",
    "import skfmm\n",
    "\n",
    "import PointCloudMask as pcm"
   ]
  },
  {
   "cell_type": "code",
   "execution_count": 2,
   "metadata": {},
   "outputs": [],
   "source": [
    "leafs = pcm.apply_depth_mask(\"PCDandDepth/Pointclouds/demo_ (1).pcd\", 'PCDandDepth/Images/aggrigated_masks (1).png',\n",
    "                             \"PCDandDepth/Arrays/depth (1).npy\", plot=False)"
   ]
  },
  {
   "cell_type": "code",
   "execution_count": 25,
   "metadata": {},
   "outputs": [
    {
     "name": "stdout",
     "output_type": "stream",
     "text": [
      "(1080, 1440, 4)\n"
     ]
    }
   ],
   "source": [
    "print(leafs.shape)"
   ]
  },
  {
   "cell_type": "markdown",
   "metadata": {},
   "source": [
    "Test 1: Performing convolution with needle array to erode away leaf edges"
   ]
  },
  {
   "cell_type": "code",
   "execution_count": 6,
   "metadata": {},
   "outputs": [
    {
     "name": "stdout",
     "output_type": "stream",
     "text": [
      "average kernel size:  38.0\n",
      "average kernel size:  39.0\n",
      "average kernel size:  37.0\n",
      "average kernel size:  39.0\n",
      "average kernel size:  38.0\n",
      "average kernel size:  40.0\n",
      "average kernel size:  39.0\n",
      "average kernel size:  39.0\n",
      "average kernel size:  39.0\n",
      "average kernel size:  38.0\n",
      "average kernel size:  40.0\n",
      "all kernels:  [38.0, 39.0, 37.0, 39.0, 38.0, 40.0, 39.0, 39.0, 39.0, 38.0, 40.0]\n"
     ]
    },
    {
     "data": {
      "text/plain": [
       "<matplotlib.image.AxesImage at 0x7f0d69275b70>"
      ]
     },
     "execution_count": 6,
     "metadata": {},
     "output_type": "execute_result"
    },
    {
     "data": {
      "image/png": "[encoded data removed]",
      "text/plain": [
       "<Figure size 640x480 with 1 Axes>"
      ]
     },
     "metadata": {},
     "output_type": "display_data"
    }
   ],
   "source": [
    "depth_image = leafs[:,:,2].astype('float32')\n",
    "mask_image = leafs[:,:,3].astype('uint8')\n",
    "kernels = get_kernels(depth_image, mask_image, leafs)\n",
    "no_leaves = np.unique(mask_image)\n",
    "graspable_mask = do_convolution(kernels, mask_image)\n",
    "plt.imshow(graspable_mask)"
   ]
  },
  {
   "cell_type": "code",
   "execution_count": 5,
   "metadata": {},
   "outputs": [],
   "source": [
    "def get_kernels(depth_image, mask_image, masked_points):\n",
    "    masks_ind = np.unique(mask_image)\n",
    "    kernels = []\n",
    "    \n",
    "    for i in range(1, len(masks_ind)):\n",
    "        singular_leaf_mask = np.where(mask_image, mask_image == masks_ind[i], 0)\n",
    "        leaf_mask = singular_leaf_mask * depth_image\n",
    "        kernel_ = kernel_size(leaf_mask, plot=False)\n",
    "        kernels.append(kernel_)\n",
    "    print('all kernels: ', kernels)\n",
    "    return kernels\n",
    "        "
   ]
  },
  {
   "cell_type": "code",
   "execution_count": 4,
   "metadata": {},
   "outputs": [],
   "source": [
    "def kernel_size(depth_mask, plot=False):\n",
    "    calib_projection_matrix = np.array(([1722.235253, 0, 584.315697, 0],\n",
    "                           [0, 1722.235253, 488.690098, 0],\n",
    "                           [0, 0, 1, 0, ]))\n",
    "    P = np.reshape(calib_projection_matrix, (3,4))\n",
    "    X = np.ones((4,1))\n",
    "\n",
    "    leaf_x = np.nonzero(depth_mask)[0]\n",
    "    leaf_y = np.nonzero(depth_mask)[1]\n",
    "    mean_depth = np.mean(depth_mask[leaf_x,leaf_y])\n",
    "\n",
    "\n",
    "    depth = np.array(([0,0, mean_depth]))\n",
    "    mn_dim = 0.005\n",
    "    d1 = np.array(([-mn_dim / 2, -mn_dim / 2, mean_depth]))\n",
    "    d2 = np.array(([mn_dim / 2, -mn_dim / 2, mean_depth]))\n",
    "    d3 = np.array(([-mn_dim / 2, mn_dim / 2, mean_depth]))\n",
    "    d4 = np.array(([mn_dim / 2, mn_dim / 2, mean_depth]))\n",
    "    Dc = np.array([depth]).transpose()\n",
    "    D1 = np.array([d1]).transpose()\n",
    "    D2 = np.array([d2]).transpose()\n",
    "    D3 = np.array([d3]).transpose()\n",
    "    D4 = np.array([d4]).transpose()\n",
    "    X[0:3, :] = np.array(Dc)\n",
    "    x = np.matmul(P, X)\n",
    "    xc = x / x[-1:]\n",
    "    X[0:3, :] = np.array(D1)\n",
    "    x = np.matmul(P, X)\n",
    "    x1 = x / x[-1:]\n",
    "    X[0:3, :] = np.array(D2)\n",
    "    x = np.matmul(P, X)\n",
    "    x2 = x / x[-1:]\n",
    "    X[0:3, :] = np.array(D3)\n",
    "    x = np.matmul(P, X)\n",
    "    x3 = x / x[-1:]\n",
    "    X[0:3, :] = np.array(D4)\n",
    "    x = np.matmul(P, X)\n",
    "    x4 = x / x[-1:]\n",
    "\n",
    "    sz_1 = np.abs(np.round(x1[0]) - np.round(x2[0]))\n",
    "    sz_2 = np.abs(np.round(x1[1]) - np.round(x3[1]))\n",
    "    sz_3 = np.abs(np.round(x4[0]) - np.round(x3[0]))\n",
    "    sz_4 = np.abs(np.round(x4[1]) - np.round(x2[1]))\n",
    "\n",
    "    kernel_ = np.round(np.average(([sz_1, sz_2, sz_3, sz_4])))  # this is just a length of a square\n",
    "\n",
    "    print('average kernel size: ', kernel_)\n",
    "\n",
    "    if plot:\n",
    "            plt.imshow(depth_mask)\n",
    "            plt.plot(np.round(xc[0]), np.round(xc[1]), 'r.')\n",
    "            plt.plot(np.round(x1[0]), np.round(x1[1]), 'r.')\n",
    "            plt.plot(np.round(x2[0]), np.round(x2[1]), 'r.')\n",
    "            plt.plot(np.round(x3[0]), np.round(x3[1]), 'r.')\n",
    "            plt.plot(np.round(x4[0]), np.round(x4[1]), 'r.')\n",
    "            plt.show()\n",
    "    return kernel_"
   ]
  },
  {
   "cell_type": "code",
   "execution_count": 3,
   "metadata": {},
   "outputs": [],
   "source": [
    "def do_convolution(kernel, mask):\n",
    "\n",
    "    kernel_ = kernel\n",
    "    mask_ = mask\n",
    "    index_ = np.unique(mask_)\n",
    "    \n",
    "    graspable_areas = np.zeros((1080, 1440))\n",
    "    \n",
    "    for i in range(1, len(index_)):\n",
    "        mask_local_ = mask_ == index_[i]\n",
    "        mask_local_ = np.where(mask_local_, mask_local_ >= 1, 0)\n",
    "        graspable_area = signal.convolve2d(mask_local_.astype('uint8'), np.ones((kernel_[i - 1].astype('uint8'), kernel_[i - 1].astype('uint8'))), boundary='symm',\n",
    "                                               mode='same')\n",
    "        graspable_area = np.where(graspable_area, graspable_area < np.amax(graspable_area)*.9,\n",
    "                                      1)  # remove blurry parts\n",
    "        graspable_area_ = np.logical_not(graspable_area).astype(\n",
    "                int)\n",
    "        i_, j_ = np.where(graspable_area_ == np.amax(graspable_area_))\n",
    "        graspable_areas[i_, j_] = i\n",
    "    return graspable_areas\n",
    "        \n",
    "   "
   ]
  },
  {
   "cell_type": "code",
   "execution_count": 29,
   "metadata": {},
   "outputs": [
    {
     "name": "stdout",
     "output_type": "stream",
     "text": [
      "(1555200, 3)\n",
      "(14092, 3)\n",
      "(array([ 463440,  463441,  463442, ..., 1495405, 1495406, 1495407]),)\n"
     ]
    }
   ],
   "source": [
    "\n",
    "binary_grasp_mask = graspable_mask >=1\n",
    "leafs[:,:,0] = leafs[:,:,0]*binary_grasp_mask\n",
    "leafs[:,:,1] = leafs[:,:,1]*binary_grasp_mask\n",
    "leafs[:,:,2] = leafs[:,:,2]*binary_grasp_mask\n",
    "leafs[:,:,3] = leafs[:,:,3]*binary_grasp_mask\n",
    "leafs_ = np.reshape(leafs[:,:,0:3], (1555200, 3))\n",
    "print(leafs_.shape)\n",
    "index = np.argwhere(leafs_ == [0,0,0])\n",
    "inverse_index = np.nonzero(leafs_[:,2])\n",
    "leafs__ = np.delete(leafs_, index,0)\n",
    "print(leafs__.shape)\n",
    "print(inverse_index)\n"
   ]
  },
  {
   "cell_type": "code",
   "execution_count": 8,
   "metadata": {},
   "outputs": [],
   "source": [
    "\n",
    "processed_pcd = o3d.geometry.PointCloud()\n",
    "processed_pcd.points = o3d.utility.Vector3dVector(leafs__)"
   ]
  },
  {
   "cell_type": "code",
   "execution_count": 11,
   "metadata": {},
   "outputs": [],
   "source": [
    "#processed_pcd.estimate_normals(\n",
    "   # search_param=o3d.geometry.KDTreeSearchParamHybrid(radius=0.01, max_nn=30)\n",
    "#)\n",
    "o3d.visualization.draw_geometries([processed_pcd])"
   ]
  },
  {
   "cell_type": "code",
   "execution_count": 9,
   "metadata": {},
   "outputs": [
    {
     "name": "stdout",
     "output_type": "stream",
     "text": [
      "Computing Normals!\n",
      "0.999994218226358\n"
     ]
    }
   ],
   "source": [
    "pcm.compute_normals(processed_pcd)\n",
    "sqrt_dist = np.sum((processed_pcd.normals[999])**2, axis=0)\n",
    "dist = np.sqrt(sqrt_dist)\n",
    "normal_orientation = np.asarray(processed_pcd.normals)[:,2]\n",
    "normal_orientation = abs(normal_orientation)\n",
    "print(max(normal_orientation))\n",
    "orientation_color = np.zeros((len(normal_orientation), 3))\n",
    "orientation_color[:,0]=normal_orientation\n",
    "orientation_color[:,1]=0\n",
    "orientation_color[:,2]=0\n",
    "processed_pcd.colors = o3d.utility.Vector3dVector(orientation_color)"
   ]
  },
  {
   "cell_type": "code",
   "execution_count": 10,
   "metadata": {},
   "outputs": [],
   "source": [
    "o3d.visualization.draw_geometries([processed_pcd])"
   ]
  },
  {
   "cell_type": "code",
   "execution_count": 30,
   "metadata": {},
   "outputs": [
    {
     "name": "stdout",
     "output_type": "stream",
     "text": [
      "(1555200, 1)\n",
      "(14092,)\n"
     ]
    }
   ],
   "source": [
    "leaf_flatness = np.zeros((1555200, 1))\n",
    "print(leaf_flatness.shape)\n",
    "print(normal_orientation.shape)\n",
    "j=0\n",
    "for i in inverse_index[0]:\n",
    "    leafs_[i,0] = normal_orientation[j]\n",
    "    j+1"
   ]
  },
  {
   "cell_type": "code",
   "execution_count": 45,
   "metadata": {},
   "outputs": [
    {
     "data": {
      "text/plain": [
       "<matplotlib.image.AxesImage at 0x7f0d629d1ed0>"
      ]
     },
     "execution_count": 45,
     "metadata": {},
     "output_type": "execute_result"
    },
    {
     "data": {
      "image/png": "[encoded data removed]",
      "text/plain": [
       "<Figure size 640x480 with 1 Axes>"
      ]
     },
     "metadata": {},
     "output_type": "display_data"
    }
   ],
   "source": [
    "leafs_orient = np.reshape(leafs_, (1080,1440,3))\n",
    "plt.imshow(leafs_orient[:,:,0])"
   ]
  }
 ],
 "metadata": {
  "kernelspec": {
   "display_name": "Python 3",
   "language": "python",
   "name": "python3"
  },
  "language_info": {
   "codemirror_mode": {
    "name": "ipython",
    "version": 3
   },
   "file_extension": ".py",
   "mimetype": "text/x-python",
   "name": "python",
   "nbconvert_exporter": "python",
   "pygments_lexer": "ipython3",
   "version": "3.10.12"
  }
 },
 "nbformat": 4,
 "nbformat_minor": 2
}
